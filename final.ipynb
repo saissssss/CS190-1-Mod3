{
 "cells": [
  {
   "cell_type": "code",
   "execution_count": 83,
   "id": "eb64d488-bf37-468d-addb-b76737719f42",
   "metadata": {},
   "outputs": [],
   "source": [
    "from ucimlrepo import fetch_ucirepo\n",
    "import pandas as pd\n",
    "import numpy as np\n",
    "from sklearn.impute import KNNImputer\n",
    "from sklearn.preprocessing import LabelEncoder, StandardScaler\n",
    "from sklearn.model_selection import train_test_split\n",
    "from sklearn.tree import DecisionTreeClassifier\n",
    "from sklearn.svm import SVC\n",
    "from sklearn.neighbors import KNeighborsClassifier\n",
    "from sklearn.naive_bayes import GaussianNB\n",
    "from sklearn.metrics import accuracy_score, precision_score, recall_score, f1_score, confusion_matrix"
   ]
  },
  {
   "cell_type": "code",
   "execution_count": 84,
   "id": "34e43ae9-481f-42b3-bda5-d7ca6b0c3158",
   "metadata": {},
   "outputs": [],
   "source": [
    "# import dataset\n",
    "heart_disease = fetch_ucirepo(id=45)\n",
    "\n",
    "# access data\n",
    "X = heart_disease.data.features\n",
    "y = heart_disease.data.targets\n",
    "\n",
    "y = pd.Series(y.values.flatten(), name='target')\n",
    "\n",
    "# Convert target variable to binary classification (0 = no disease, 1 = disease)\n",
    "y = (y > 0).astype(int)  # Convert all non-zero values to 1"
   ]
  },
  {
   "cell_type": "code",
   "execution_count": 85,
   "id": "55a6bb16-c204-4ca5-b1bf-e02016d88048",
   "metadata": {},
   "outputs": [],
   "source": [
    "# Handle missing values using Nearest Neighbor Hot Deck Imputation (KNN)\n",
    "imputer = KNNImputer(n_neighbors=5)\n",
    "X_imputed = pd.DataFrame(imputer.fit_transform(X), columns=X.columns)\n",
    "\n",
    "# Define numerical and categorical features\n",
    "numeric_features = ['age', 'trestbps', 'chol', 'thalach', 'oldpeak', 'ca']\n",
    "categorical_features = ['sex', 'cp', 'fbs', 'restecg', 'exang', 'slope', 'thal']\n",
    "\n",
    "# Convert categorical columns back to integers\n",
    "X_imputed[categorical_features] = X_imputed[categorical_features].round(0).astype(int)\n",
    "\n",
    "# Encode categorical features (if any exist)\n",
    "label_encoders = {}\n",
    "for col in categorical_features:\n",
    "    le = LabelEncoder()\n",
    "    X_imputed[col] = le.fit_transform(X_imputed[col])\n",
    "    label_encoders[col] = le  # Store encoders for later decoding if needed\n",
    "\n",
    "# Define categorical columns\n",
    "categorical_cols = ['sex', 'cp', 'fbs', 'restecg', 'exang', 'slope', 'thal']\n",
    "\n",
    "# Ensure categorical columns are integers after imputation\n",
    "X_imputed[categorical_cols] = X_imputed[categorical_cols].round().astype(int)\n",
    "\n",
    "#NADOBLE KASI DI KO ALAM BAKIT AYAW NIYA MAGSTAY AS INTEGER KAPAG DI INULIT, NAGIGING FLOAT KAPAG PINRINT\n",
    "# Verify\n",
    "#print(X_imputed.dtypes)\n",
    "#print(X_imputed[categorical_cols].head())"
   ]
  },
  {
   "cell_type": "code",
   "execution_count": 86,
   "id": "b46d4008-e72b-4909-87e4-c0f4619e9c65",
   "metadata": {},
   "outputs": [],
   "source": [
    "# Standardize numerical features\n",
    "scaler = StandardScaler()\n",
    "X_imputed[numeric_features] = scaler.fit_transform(X_imputed[numeric_features])"
   ]
  },
  {
   "cell_type": "code",
   "execution_count": 87,
   "id": "89cb3b14-cd16-46bc-95fc-808d6e81fc12",
   "metadata": {},
   "outputs": [],
   "source": [
    "# Split dataset (70% train, 30% test, stratified to maintain class balance) TINRY KO MUNA 70-30\n",
    "X_train, X_test, y_train, y_test = train_test_split(X_imputed, y, test_size=0.3, stratify=y, random_state=42)"
   ]
  },
  {
   "cell_type": "code",
   "execution_count": 88,
   "id": "41d82c01-39a3-4b9a-a56e-499759d2f230",
   "metadata": {},
   "outputs": [
    {
     "name": "stdout",
     "output_type": "stream",
     "text": [
      "Selected Features: ['restecg', 'age', 'oldpeak', 'ca', 'chol', 'thalach', 'cp', 'thal']\n"
     ]
    }
   ],
   "source": [
    "# Feature selection using Decision Tree\n",
    "dt = DecisionTreeClassifier(random_state=42)\n",
    "dt.fit(X_train, y_train)\n",
    "importances = dt.feature_importances_\n",
    "selected_features = X_train.columns[np.argsort(importances)[-8:]]  # Top 8 features\n",
    "\n",
    "# Create a reduced feature dataset\n",
    "X_train_selected = X_train[selected_features]\n",
    "X_test_selected = X_test[selected_features]\n",
    "\n",
    "# Print selected features\n",
    "print(\"Selected Features:\", selected_features.tolist())"
   ]
  },
  {
   "cell_type": "code",
   "execution_count": 89,
   "id": "972358c0-9d9a-4266-9d59-ac754598f0c0",
   "metadata": {},
   "outputs": [
    {
     "name": "stdout",
     "output_type": "stream",
     "text": [
      "\n",
      "Results using all features:\n",
      "SVM - Accuracy: 0.7912, Precision: 0.7556, Recall: 0.8095, F1-score: 0.7816, Specificity: 0.7755\n",
      "KNN - Accuracy: 0.7363, Precision: 0.6875, Recall: 0.7857, F1-score: 0.7333, Specificity: 0.6939\n",
      "Naïve Bayes - Accuracy: 0.8681, Precision: 0.8125, Recall: 0.9286, F1-score: 0.8667, Specificity: 0.8163\n",
      "\n",
      "Results using selected features:\n",
      "SVM - Accuracy: 0.7802, Precision: 0.7391, Recall: 0.8095, F1-score: 0.7727, Specificity: 0.7551\n",
      "KNN - Accuracy: 0.7143, Precision: 0.6600, Recall: 0.7857, F1-score: 0.7174, Specificity: 0.6531\n",
      "Naïve Bayes - Accuracy: 0.8462, Precision: 0.7917, Recall: 0.9048, F1-score: 0.8444, Specificity: 0.7959\n"
     ]
    }
   ],
   "source": [
    "# Train and evaluate models on full feature set\n",
    "models = {\n",
    "    \"SVM\": SVC(),\n",
    "    \"KNN\": KNeighborsClassifier(),\n",
    "    \"Naïve Bayes\": GaussianNB()\n",
    "}\n",
    "\n",
    "print(\"\\nResults using all features:\")\n",
    "for name, model in models.items():\n",
    "    model.fit(X_train, y_train)\n",
    "    y_pred = model.predict(X_test)\n",
    "    accuracy = accuracy_score(y_test, y_pred)\n",
    "    precision = precision_score(y_test, y_pred)\n",
    "    recall = recall_score(y_test, y_pred)\n",
    "    f1 = f1_score(y_test, y_pred)\n",
    "    tn, fp, fn, tp = confusion_matrix(y_test, y_pred).ravel()\n",
    "    specificity = tn / (tn + fp)\n",
    "    print(f\"{name} - Accuracy: {accuracy:.4f}, Precision: {precision:.4f}, Recall: {recall:.4f}, F1-score: {f1:.4f}, Specificity: {specificity:.4f}\")\n",
    "\n",
    "print(\"\\nResults using selected features:\")\n",
    "for name, model in models.items():\n",
    "    model.fit(X_train_selected, y_train)\n",
    "    y_pred = model.predict(X_test_selected)\n",
    "    accuracy = accuracy_score(y_test, y_pred)\n",
    "    precision = precision_score(y_test, y_pred)\n",
    "    recall = recall_score(y_test, y_pred)\n",
    "    f1 = f1_score(y_test, y_pred)\n",
    "    tn, fp, fn, tp = confusion_matrix(y_test, y_pred).ravel()\n",
    "    specificity = tn / (tn + fp)\n",
    "    print(f\"{name} - Accuracy: {accuracy:.4f}, Precision: {precision:.4f}, Recall: {recall:.4f}, F1-score: {f1:.4f}, Specificity: {specificity:.4f}\")"
   ]
  },
  {
   "cell_type": "code",
   "execution_count": 90,
   "id": "646b3bf1-de9e-471f-81ab-e5ecbce2686b",
   "metadata": {},
   "outputs": [],
   "source": [
    "# Implement Fuzzy Expert System with Rule-based Classification\n",
    "def fuzzy_expert_system(row):\n",
    "    T_S = row[\"thal\"]      # Thallium Scan\n",
    "    Slope = row[\"slope\"]\n",
    "    CP = row[\"cp\"]         # Chest Pain Type\n",
    "    Chol = row[\"chol\"]     # Serum Cholesterol\n",
    "    F_S = row[\"ca\"]        # Fluoroscopy\n",
    "    ECG = row[\"restecg\"]   # Resting ECG\n",
    "    HR = row[\"thalach\"]    # Heart Rate\n",
    "    BP = row[\"trestbps\"]   # Blood Pressure\n",
    "    O_P = row[\"oldpeak\"]   # Old Peak\n",
    "\n",
    "    # Ensure no missing values (fill with median if necessary)\n",
    "    if pd.isnull([T_S, Slope, CP, Chol, F_S, ECG, HR, BP, O_P]).any():\n",
    "        return 1  # Default to CAD if missing values exist\n",
    "\n",
    "    if T_S > 4.5 and Slope <= 1.5 and CP > 3.5 and Chol <= 240.5 and F_S <= 0.5:\n",
    "        return 0  # Normal\n",
    "    if T_S > 4.5 and Slope <= 1.5 and CP > 3.5 and Chol <= 240.5 and F_S > 0.5:\n",
    "        return 1  # CAD\n",
    "    if T_S > 4.5 and Slope > 1.5 and CP <= 3.5 and ECG <= 1.5 and HR <= 188:\n",
    "        return 1\n",
    "    if T_S > 4.5 and Slope > 1.5 and CP <= 3.5 and ECG <= 1.5 and HR > 188:\n",
    "        return 0\n",
    "    if T_S > 4.5 and Slope > 1.5 and CP <= 3.5 and ECG > 1.5 and F_S <= 0.5:\n",
    "        return 0\n",
    "    if T_S > 4.5 and Slope > 1.5 and CP <= 3.5 and ECG > 1.5 and F_S > 0.5:\n",
    "        return 1\n",
    "    if T_S > 4.5 and Slope <= 1.5 and CP <= 3.5 and BP <= 182 and O_P <= 2.4:\n",
    "        return 0\n",
    "    if T_S > 4.5 and Slope <= 1.5 and CP <= 3.5 and BP <= 182 and O_P > 2.4:\n",
    "        return 1\n",
    "    if T_S > 4.5 and Slope <= 1.5 and CP > 3.5 and Chol > 240.5:\n",
    "        return 1\n",
    "    if T_S > 4.5 and Slope <= 1.5 and CP <= 3.5 and BP > 182:\n",
    "        return 1\n",
    "    if T_S > 4.5 and Slope > 1.5 and CP > 3.5:\n",
    "        return 1\n",
    "    if T_S <= 4.5 and F_S > 0.5 and CP <= 3.5:\n",
    "        return 0\n",
    "    if T_S <= 4.5 and F_S > 0.5 and CP > 3.5:\n",
    "        return 1\n",
    "    if T_S <= 4.5 and F_S <= 0.5:\n",
    "        return 0\n",
    "    return 1  # Default to CAD if no rule matches\n"
   ]
  },
  {
   "cell_type": "code",
   "execution_count": 91,
   "id": "21f7f067-906f-4d22-a271-b936774e4a06",
   "metadata": {},
   "outputs": [
    {
     "name": "stdout",
     "output_type": "stream",
     "text": [
      "Fuzzy Expert System - Accuracy: 0.5385, Precision: 1.0000, Recall: 0.0000, F1-score: 0.0000, Specificity: 1.0000\n"
     ]
    }
   ],
   "source": [
    "# Apply Fuzzy Expert System\n",
    "y_pred_fuzzy = X_test.apply(lambda row: fuzzy_expert_system(row), axis=1)\n",
    "\n",
    "# Compute Performance Metrics\n",
    "accuracy_fuzzy = accuracy_score(y_test, y_pred_fuzzy)\n",
    "precision_fuzzy = precision_score(y_test, y_pred_fuzzy, zero_division=1)\n",
    "recall_fuzzy = recall_score(y_test, y_pred_fuzzy)\n",
    "f1_fuzzy = f1_score(y_test, y_pred_fuzzy)\n",
    "tn, fp, fn, tp = confusion_matrix(y_test, y_pred_fuzzy).ravel()\n",
    "specificity_fuzzy = tn / (tn + fp)\n",
    "\n",
    "print(f\"Fuzzy Expert System - Accuracy: {accuracy_fuzzy:.4f}, Precision: {precision_fuzzy:.4f}, Recall: {recall_fuzzy:.4f}, F1-score: {f1_fuzzy:.4f}, Specificity: {specificity_fuzzy:.4f}\")"
   ]
  },
  {
   "cell_type": "code",
   "execution_count": null,
   "id": "449d869b-0554-4880-863f-45c61b9c91fd",
   "metadata": {},
   "outputs": [],
   "source": []
  }
 ],
 "metadata": {
  "kernelspec": {
   "display_name": "Python 3 (ipykernel)",
   "language": "python",
   "name": "python3"
  },
  "language_info": {
   "codemirror_mode": {
    "name": "ipython",
    "version": 3
   },
   "file_extension": ".py",
   "mimetype": "text/x-python",
   "name": "python",
   "nbconvert_exporter": "python",
   "pygments_lexer": "ipython3",
   "version": "3.12.6"
  }
 },
 "nbformat": 4,
 "nbformat_minor": 5
}
