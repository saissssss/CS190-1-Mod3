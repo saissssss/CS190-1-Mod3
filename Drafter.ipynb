{
 "cells": [
  {
   "cell_type": "markdown",
   "id": "9da6cf9b-6eb3-4992-8c03-a8e2e7cb879a",
   "metadata": {},
   "source": [
    "# **Import Required Libraries**\n",
    "This cell imports all necessary Python libraries for:\n",
    "- Data preprocessing (Pandas, NumPy)\n",
    "- Machine learning models (SVM, KNN, Naïve Bayes)\n",
    "- Feature selection (Decision Tree)\n",
    "- Hyperparameter tuning (GridSearchCV)\n",
    "- Performance evaluation (Accuracy, Precision, Recall, etc.)\n"
   ]
  },
  {
   "cell_type": "code",
   "execution_count": 1,
   "id": "8881a796-b595-4880-be78-0814c165750a",
   "metadata": {},
   "outputs": [],
   "source": [
    "from ucimlrepo import fetch_ucirepo\n",
    "import pandas as pd\n",
    "import numpy as np\n",
    "from sklearn.impute import KNNImputer\n",
    "from sklearn.preprocessing import LabelEncoder, StandardScaler\n",
    "from sklearn.model_selection import train_test_split, GridSearchCV\n",
    "from sklearn.tree import DecisionTreeClassifier\n",
    "from sklearn.svm import SVC\n",
    "from sklearn.neighbors import KNeighborsClassifier\n",
    "from sklearn.naive_bayes import GaussianNB\n",
    "from sklearn.metrics import accuracy_score, precision_score, recall_score, f1_score, confusion_matrix\n"
   ]
  },
  {
   "cell_type": "markdown",
   "id": "a96f5055-12d6-4e1a-a5d0-3d7746523f99",
   "metadata": {},
   "source": [
    "# **Load the Dataset**\n",
    "- Fetches the Heart Disease dataset from the UCI Machine Learning Repository.\n",
    "- Extracts feature variables (`X`) and the target variable (`y`).\n",
    "- Converts the target variable into **binary classification**:\n",
    "  - `0` → No disease\n",
    "  - `1` → Disease (all non-zero values converted to `1`)\n"
   ]
  },
  {
   "cell_type": "code",
   "execution_count": 2,
   "id": "52536ebe-7e23-48fd-807c-0fa707e31fdc",
   "metadata": {},
   "outputs": [],
   "source": [
    "# Import dataset\n",
    "heart_disease = fetch_ucirepo(id=45)\n",
    "\n",
    "# Access data\n",
    "X = heart_disease.data.features\n",
    "y = heart_disease.data.targets\n",
    "\n",
    "y = pd.Series(y.values.flatten(), name='target')\n",
    "\n",
    "# Convert target variable to binary classification (0 = no disease, 1 = disease)\n",
    "y = (y > 0).astype(int)  # Convert all non-zero values to 1\n"
   ]
  },
  {
   "cell_type": "markdown",
   "id": "ea94fb1b-28ac-4e43-8ba4-7876b3509eb8",
   "metadata": {},
   "source": [
    "# **Handle Missing Values & Encode Categorical Features**\n",
    "- Uses **Nearest Neighbor Hot Deck Imputation (KNN Imputer)** to fill missing values.\n",
    "- Defines **numerical** and **categorical** features.\n",
    "- Converts categorical columns to **integer format** after imputation.\n",
    "- Applies **Label Encoding** to categorical features for model compatibility.\n"
   ]
  },
  {
   "cell_type": "code",
   "execution_count": 3,
   "id": "04fd30e3-7d67-4487-9aaa-1f938f2f9d5a",
   "metadata": {},
   "outputs": [],
   "source": [
    "# Handle missing values using Nearest Neighbor Hot Deck Imputation (KNN)\n",
    "imputer = KNNImputer(n_neighbors=5)\n",
    "X_imputed = pd.DataFrame(imputer.fit_transform(X), columns=X.columns)\n",
    "\n",
    "# Define numerical and categorical features\n",
    "numeric_features = ['age', 'trestbps', 'chol', 'thalach', 'oldpeak', 'ca']\n",
    "categorical_features = ['sex', 'cp', 'fbs', 'restecg', 'exang', 'slope', 'thal']\n",
    "\n",
    "# Convert categorical columns back to integers\n",
    "X_imputed[categorical_features] = X_imputed[categorical_features].round(0).astype(int)\n",
    "\n",
    "# Encode categorical features\n",
    "label_encoders = {}\n",
    "for col in categorical_features:\n",
    "    le = LabelEncoder()\n",
    "    X_imputed[col] = le.fit_transform(X_imputed[col])\n",
    "    label_encoders[col] = le  # Store encoders for later decoding if needed\n"
   ]
  },
  {
   "cell_type": "markdown",
   "id": "c28bace1-3f87-4a1f-bbe8-9fcb7a6b1dbe",
   "metadata": {},
   "source": [
    "# **Standardize Numerical Features**\n",
    "- Applies **StandardScaler** to numerical features to normalize their values.\n",
    "- Helps machine learning models perform better by ensuring all features have a **mean of 0** and **standard deviation of 1**.\n"
   ]
  },
  {
   "cell_type": "code",
   "execution_count": 4,
   "id": "9319f0e0-a14e-44ee-ad2e-e70b96050edf",
   "metadata": {},
   "outputs": [],
   "source": [
    "# Standardize numerical features\n",
    "scaler = StandardScaler()\n",
    "X_imputed[numeric_features] = scaler.fit_transform(X_imputed[numeric_features])\n"
   ]
  },
  {
   "cell_type": "markdown",
   "id": "ce1004cf-0002-4720-b69a-4ace865eb2ee",
   "metadata": {},
   "source": [
    "# **Split Data into Training & Testing Sets**\n",
    "- Splits the dataset into **70% training** and **30% testing**.\n",
    "- Uses **stratified sampling** to maintain class balance in both sets.\n",
    "- Sets `random_state=42` for reproducibility.\n"
   ]
  },
  {
   "cell_type": "code",
   "execution_count": 5,
   "id": "59d8fe29-2de5-4612-8cad-444704c304f9",
   "metadata": {},
   "outputs": [],
   "source": [
    "# Split dataset (70% train, 30% test, stratified to maintain class balance)\n",
    "X_train, X_test, y_train, y_test = train_test_split(X_imputed, y, test_size=0.3, stratify=y, random_state=42)\n"
   ]
  },
  {
   "cell_type": "markdown",
   "id": "1d06cc75-578e-4c95-82a2-a7caad00ac5c",
   "metadata": {},
   "source": [
    "# **Feature Selection Using Decision Tree**\n",
    "- Trains a **Decision Tree classifier** on the training data.\n",
    "- Selects the **top 7 most important features** based on feature importance scores.\n",
    "- Creates a **reduced dataset** using only the selected features.\n"
   ]
  },
  {
   "cell_type": "code",
   "execution_count": 6,
   "id": "9e80292c-14d6-423d-a027-5c0314670fd0",
   "metadata": {},
   "outputs": [
    {
     "name": "stdout",
     "output_type": "stream",
     "text": [
      "Decision Tree Selected Features: ['age', 'oldpeak', 'ca', 'chol', 'thalach', 'cp', 'thal']\n"
     ]
    }
   ],
   "source": [
    "# Feature selection using Decision Tree\n",
    "dt = DecisionTreeClassifier(random_state=42)\n",
    "dt.fit(X_train, y_train)\n",
    "importances = dt.feature_importances_\n",
    "selected_features_dt = X_train.columns[np.argsort(importances)[-7:]]  # Top 7 features\n",
    "\n",
    "# Create reduced feature datasets for Decision Tree selection\n",
    "X_train_dt = X_train[selected_features_dt]\n",
    "X_test_dt = X_test[selected_features_dt]\n",
    "\n",
    "# Print selected features\n",
    "print(\"Decision Tree Selected Features:\", selected_features_dt.tolist())\n"
   ]
  },
  {
   "cell_type": "markdown",
   "id": "71bb0060-a0a3-4b7a-ac62-eb322f12303b",
   "metadata": {},
   "source": [
    "# **Manually Selected Features**\n",
    "- Uses a **manually chosen subset of 7 features** based on prior knowledge.\n",
    "- Creates a **reduced dataset** using these features.\n"
   ]
  },
  {
   "cell_type": "code",
   "execution_count": 7,
   "id": "ea508262-606f-4893-b1d3-c0b503d19ca6",
   "metadata": {},
   "outputs": [
    {
     "name": "stdout",
     "output_type": "stream",
     "text": [
      "Manually Selected Features: ['cp', 'thalach', 'exang', 'oldpeak', 'slope', 'ca', 'thal']\n"
     ]
    }
   ],
   "source": [
    "# Manually selected features\n",
    "manual_selected_features = ['cp', 'thalach', 'exang', 'oldpeak', 'slope', 'ca', 'thal']\n",
    "\n",
    "# Create reduced feature datasets for manually selected features\n",
    "X_train_manual = X_train[manual_selected_features]\n",
    "X_test_manual = X_test[manual_selected_features]\n",
    "\n",
    "# Print selected features\n",
    "print(\"Manually Selected Features:\", manual_selected_features)\n"
   ]
  },
  {
   "cell_type": "markdown",
   "id": "e813086e-d523-44f3-8e00-43ce46f90b5a",
   "metadata": {},
   "source": [
    "# **Train & Evaluate Models (Baseline Parameters)**\n",
    "- Trains SVM, KNN, and Naïve Bayes models using parameters from the **baseline study**.\n",
    "- Evaluates models using **Accuracy, Precision, Recall, F1-score, and Specificity**.\n",
    "- Runs experiments on:\n",
    "  - **All features**\n",
    "  - **Decision Tree-selected features**\n",
    "  - **Manually selected features**\n"
   ]
  },
  {
   "cell_type": "code",
   "execution_count": 8,
   "id": "b6f647d2-c3bf-4160-b159-06e4510f8ef4",
   "metadata": {},
   "outputs": [],
   "source": [
    "# Function to evaluate models using Accuracy, Precision, Recall, F1-score, and Specificity\n",
    "def evaluate_models(X_train, X_test, feature_type, model_dict):\n",
    "    print(f\"\\nResults using {feature_type} features:\")\n",
    "    for name, model in model_dict.items():\n",
    "        model.fit(X_train, y_train)\n",
    "        y_pred = model.predict(X_test)\n",
    "        accuracy = accuracy_score(y_test, y_pred)\n",
    "        precision = precision_score(y_test, y_pred)\n",
    "        recall = recall_score(y_test, y_pred)\n",
    "        f1 = f1_score(y_test, y_pred)\n",
    "        tn, fp, fn, tp = confusion_matrix(y_test, y_pred).ravel()\n",
    "        specificity = tn / (tn + fp)\n",
    "        print(f\"{name} - Accuracy: {accuracy:.4f}, Precision: {precision:.4f}, Recall: {recall:.4f}, F1-score: {f1:.4f}, Specificity: {specificity:.4f}\")\n"
   ]
  },
  {
   "cell_type": "code",
   "execution_count": 9,
   "id": "b46426c5-f0a2-441d-a333-5a55e663945c",
   "metadata": {},
   "outputs": [
    {
     "name": "stdout",
     "output_type": "stream",
     "text": [
      "\n",
      "Results using All Features features:\n",
      "SVM - Accuracy: 0.7692, Precision: 0.7234, Recall: 0.8095, F1-score: 0.7640, Specificity: 0.7347\n",
      "KNN - Accuracy: 0.7363, Precision: 0.6875, Recall: 0.7857, F1-score: 0.7333, Specificity: 0.6939\n",
      "Naïve Bayes - Accuracy: 0.8681, Precision: 0.8125, Recall: 0.9286, F1-score: 0.8667, Specificity: 0.8163\n",
      "\n",
      "Results using Decision Tree features:\n",
      "SVM - Accuracy: 0.7582, Precision: 0.7174, Recall: 0.7857, F1-score: 0.7500, Specificity: 0.7347\n",
      "KNN - Accuracy: 0.7253, Precision: 0.6809, Recall: 0.7619, F1-score: 0.7191, Specificity: 0.6939\n",
      "Naïve Bayes - Accuracy: 0.8352, Precision: 0.7872, Recall: 0.8810, F1-score: 0.8315, Specificity: 0.7959\n",
      "\n",
      "Results using Manual Selection features:\n",
      "SVM - Accuracy: 0.7912, Precision: 0.7556, Recall: 0.8095, F1-score: 0.7816, Specificity: 0.7755\n",
      "KNN - Accuracy: 0.7582, Precision: 0.7273, Recall: 0.7619, F1-score: 0.7442, Specificity: 0.7551\n",
      "Naïve Bayes - Accuracy: 0.8791, Precision: 0.8298, Recall: 0.9286, F1-score: 0.8764, Specificity: 0.8367\n"
     ]
    }
   ],
   "source": [
    "models_baseline = {\n",
    "    \"SVM\": SVC(C=0.25, kernel='rbf', gamma=0.1268408),\n",
    "    \"KNN\": KNeighborsClassifier(n_neighbors=5),\n",
    "    \"Naïve Bayes\": GaussianNB(var_smoothing=1e-9)\n",
    "}\n",
    "\n",
    "evaluate_models(X_train, X_test, \"All Features\", models_baseline)\n",
    "evaluate_models(X_train_dt, X_test_dt, \"Decision Tree\", models_baseline)\n",
    "evaluate_models(X_train_manual, X_test_manual, \"Manual Selection\", models_baseline)\n"
   ]
  },
  {
   "cell_type": "markdown",
   "id": "d2e57a7b-3bd0-4481-926b-f485a77af9eb",
   "metadata": {},
   "source": [
    "# **Hyperparameter Tuning with GridSearchCV**\n",
    "- Optimizes **SVM, KNN, and Naïve Bayes** models using **GridSearchCV**.\n",
    "- Runs experiments on:\n",
    "  - **All features**\n",
    "  - **Decision Tree-selected features**\n",
    "  - **Manually selected features**\n"
   ]
  },
  {
   "cell_type": "code",
   "execution_count": 16,
   "id": "87a7670c-b73b-4cef-9261-0a94de651463",
   "metadata": {},
   "outputs": [],
   "source": [
    "# Define parameter grid BEFORE calling train_with_gridsearch\n",
    "param_grid = {\n",
    "    \"SVM\": {\"C\": [0.25, 0.5, 1.0], \"gamma\": [0.1268408, 'scale', 'auto'], \"kernel\": ['rbf']},\n",
    "    \"KNN\": {\"n_neighbors\": [5, 7, 9]},\n",
    "    \"Naïve Bayes\": {\"var_smoothing\": [1e-9, 1e-8, 1e-7]}\n",
    "}\n",
    "\n",
    "# Function to train models using GridSearchCV\n",
    "def train_with_gridsearch(X_train, X_test, feature_type):\n",
    "    print(f\"\\nResults using {feature_type} features with GridSearchCV:\")\n",
    "    for name, param in param_grid.items():\n",
    "        if name == \"SVM\":\n",
    "            model = SVC()\n",
    "        elif name == \"KNN\":\n",
    "            model = KNeighborsClassifier()\n",
    "        elif name == \"Naïve Bayes\":\n",
    "            model = GaussianNB()\n",
    "        grid_search = GridSearchCV(model, param, cv=5, scoring='accuracy', n_jobs=-1)\n",
    "        grid_search.fit(X_train, y_train)\n",
    "        best_model = grid_search.best_estimator_\n",
    "        y_pred = best_model.predict(X_test)\n",
    "        accuracy = accuracy_score(y_test, y_pred)\n",
    "        precision = precision_score(y_test, y_pred)\n",
    "        recall = recall_score(y_test, y_pred)\n",
    "        f1 = f1_score(y_test, y_pred)\n",
    "        tn, fp, fn, tp = confusion_matrix(y_test, y_pred).ravel()\n",
    "        specificity = tn / (tn + fp)\n",
    "        print(f\"{name} - Best Params: {grid_search.best_params_}\")\n",
    "        print(f\"{name} - Accuracy: {accuracy:.4f}, Precision: {precision:.4f}, Recall: {recall:.4f}, F1-score: {f1:.4f}, Specificity: {specificity:.4f}\\n\")\n",
    "\n",
    "\n"
   ]
  },
  {
   "cell_type": "code",
   "execution_count": 17,
   "id": "248d2d4e-3f11-4067-969f-57b91414d35b",
   "metadata": {},
   "outputs": [
    {
     "name": "stdout",
     "output_type": "stream",
     "text": [
      "\n",
      "Results using All Features features with GridSearchCV:\n",
      "SVM - Best Params: {'C': 1.0, 'gamma': 'scale', 'kernel': 'rbf'}\n",
      "SVM - Accuracy: 0.7912, Precision: 0.7556, Recall: 0.8095, F1-score: 0.7816, Specificity: 0.7755\n",
      "\n",
      "KNN - Best Params: {'n_neighbors': 7}\n",
      "KNN - Accuracy: 0.7363, Precision: 0.6957, Recall: 0.7619, F1-score: 0.7273, Specificity: 0.7143\n",
      "\n",
      "Naïve Bayes - Best Params: {'var_smoothing': 1e-09}\n",
      "Naïve Bayes - Accuracy: 0.8681, Precision: 0.8125, Recall: 0.9286, F1-score: 0.8667, Specificity: 0.8163\n",
      "\n",
      "\n",
      "Results using Decision Tree features with GridSearchCV:\n",
      "SVM - Best Params: {'C': 1.0, 'gamma': 0.1268408, 'kernel': 'rbf'}\n",
      "SVM - Accuracy: 0.7692, Precision: 0.7333, Recall: 0.7857, F1-score: 0.7586, Specificity: 0.7551\n",
      "\n",
      "KNN - Best Params: {'n_neighbors': 9}\n",
      "KNN - Accuracy: 0.7473, Precision: 0.7111, Recall: 0.7619, F1-score: 0.7356, Specificity: 0.7347\n",
      "\n",
      "Naïve Bayes - Best Params: {'var_smoothing': 1e-09}\n",
      "Naïve Bayes - Accuracy: 0.8352, Precision: 0.7872, Recall: 0.8810, F1-score: 0.8315, Specificity: 0.7959\n",
      "\n",
      "\n",
      "Results using Manual Selection features with GridSearchCV:\n",
      "SVM - Best Params: {'C': 0.5, 'gamma': 0.1268408, 'kernel': 'rbf'}\n",
      "SVM - Accuracy: 0.7802, Precision: 0.7391, Recall: 0.8095, F1-score: 0.7727, Specificity: 0.7551\n",
      "\n",
      "KNN - Best Params: {'n_neighbors': 9}\n",
      "KNN - Accuracy: 0.7912, Precision: 0.7674, Recall: 0.7857, F1-score: 0.7765, Specificity: 0.7959\n",
      "\n",
      "Naïve Bayes - Best Params: {'var_smoothing': 1e-09}\n",
      "Naïve Bayes - Accuracy: 0.8791, Precision: 0.8298, Recall: 0.9286, F1-score: 0.8764, Specificity: 0.8367\n",
      "\n"
     ]
    }
   ],
   "source": [
    "train_with_gridsearch(X_train, X_test, \"All Features\")\n",
    "train_with_gridsearch(X_train_dt, X_test_dt, \"Decision Tree\")\n",
    "train_with_gridsearch(X_train_manual, X_test_manual, \"Manual Selection\")\n"
   ]
  },
  {
   "cell_type": "code",
   "execution_count": null,
   "id": "a418aabd-1e60-46df-b3f3-9491bb1ae0ef",
   "metadata": {},
   "outputs": [],
   "source": []
  }
 ],
 "metadata": {
  "kernelspec": {
   "display_name": "Python 3 (ipykernel)",
   "language": "python",
   "name": "python3"
  },
  "language_info": {
   "codemirror_mode": {
    "name": "ipython",
    "version": 3
   },
   "file_extension": ".py",
   "mimetype": "text/x-python",
   "name": "python",
   "nbconvert_exporter": "python",
   "pygments_lexer": "ipython3",
   "version": "3.12.2"
  }
 },
 "nbformat": 4,
 "nbformat_minor": 5
}
